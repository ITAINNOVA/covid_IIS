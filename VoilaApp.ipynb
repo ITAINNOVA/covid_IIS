{
 "cells": [
  {
   "cell_type": "markdown",
   "metadata": {},
   "source": [
    "<h1><center><img align=\"center\" src=\"Pix/logostodos.png\" height=\"100\" style=\"height:100px;\"></center></h1>"
   ]
  },
  {
   "cell_type": "code",
   "execution_count": 1,
   "metadata": {},
   "outputs": [],
   "source": [
    "%reset -f\n",
    "%store -z "
   ]
  },
  {
   "cell_type": "code",
   "execution_count": 2,
   "metadata": {},
   "outputs": [],
   "source": [
    "import warnings\n",
    "warnings.filterwarnings('ignore')\n",
    "\n",
    "import ipywidgets as widgets\n",
    "import pandas as pd\n",
    "import numpy as np\n",
    "import glob\n",
    "from tqdm import tqdm, tqdm_notebook, tnrange\n",
    "import time\n",
    "import pickle\n",
    "\n",
    "import datetime\n",
    "from datetime import date\n",
    "\n",
    "from IPython.display import clear_output, display\n",
    "from ipywidgets import HTML\n",
    "\n",
    "from math import sin, cos, sqrt, atan2, radians\n",
    "\n",
    "import matplotlib.pyplot as plt\n",
    "import matplotlib.cm as cm\n",
    "\n",
    "import shap"
   ]
  },
  {
   "cell_type": "code",
   "execution_count": 3,
   "metadata": {},
   "outputs": [],
   "source": [
    "model_gravedad = pickle.load(open('Models/best_model_severity.pkl', 'rb'))\n",
    "#X_shap=pd.read_pickle('datos/Prediccion/datos_para_shap.pkl')\n",
    "\n",
    "modelos=[model_gravedad]"
   ]
  },
  {
   "cell_type": "markdown",
   "metadata": {},
   "source": [
    "<h1><center>Herramienta de predicción de la gravedad de los pacientes</center></h1>"
   ]
  },
  {
   "cell_type": "markdown",
   "metadata": {},
   "source": [
    "## Data introduction:"
   ]
  },
  {
   "cell_type": "code",
   "execution_count": 5,
   "metadata": {},
   "outputs": [
    {
     "data": {
      "application/vnd.jupyter.widget-view+json": {
       "model_id": "06a3af6f5485427289812cb597cfaa4b",
       "version_major": 2,
       "version_minor": 0
      },
      "text/plain": [
       "HBox(children=(Text(value='', description='Age:', layout=Layout(width='30%'), placeholder='71', style=Descript…"
      ]
     },
     "metadata": {},
     "output_type": "display_data"
    }
   ],
   "source": [
    "style = {'description_width': 'initial'}\n",
    "age=widgets.Text(\n",
    "    value='',\n",
    "    placeholder='71',\n",
    "    description='Age:', style={'description_width': 'initial'},\n",
    "    disabled=False, layout=widgets.Layout(width='30%')\n",
    ")\n",
    "last_o2_sat=widgets.Text(\n",
    "    value='',\n",
    "    placeholder='95.0000',\n",
    "    description='Oxygen saturation:', style={'description_width': 'initial'},\n",
    "    disabled=False, layout=widgets.Layout(width='30%')\n",
    ")\n",
    "\n",
    "P70_chronic=widgets.Dropdown(\n",
    "    options=[('No',0),('Yes',1)],\n",
    "    value=0,\n",
    "    description='Diagnosed dementia:', style={'description_width': 'initial'},\n",
    "    disabled=False, layout=widgets.Layout(width='45%')\n",
    ")\n",
    "T82_chronic=widgets.Dropdown(\n",
    "    options=[('No',0),('Yes',1)],\n",
    "    value=0,\n",
    "    description='Obesity:', style={'description_width': 'initial'},\n",
    "    disabled=False, layout=widgets.Layout(width='45%')\n",
    ")\n",
    "K89_chronic=widgets.Dropdown(\n",
    "    options=[('No',0),('Yes',1)],\n",
    "    value=0,\n",
    "    description='Cerebrovascular disease:', style={'description_width': 'initial'},\n",
    "    disabled=False, layout=widgets.Layout(width='45%')\n",
    ")\n",
    "K92_chronic=widgets.Dropdown(\n",
    "    options=[('No',0),('Yes',1)],\n",
    "    value=0,\n",
    "    description='Intermittent claudication:', style={'description_width': 'initial'},\n",
    "    disabled=False, layout=widgets.Layout(width='45%')\n",
    ")\n",
    "\n",
    "widgets.HBox([age, last_o2_sat, widgets.Label(value=\"%\")], layout=widgets.Layout(width='100%'))"
   ]
  },
  {
   "cell_type": "markdown",
   "metadata": {},
   "source": [
    "### Diagnostics:"
   ]
  },
  {
   "cell_type": "code",
   "execution_count": 8,
   "metadata": {},
   "outputs": [
    {
     "data": {
      "application/vnd.jupyter.widget-view+json": {
       "model_id": "8623c83083684b94bd2ff34ef4110fcd",
       "version_major": 2,
       "version_minor": 0
      },
      "text/plain": [
       "HBox(children=(Dropdown(description='Diagnosed dementia:', layout=Layout(width='45%'), options=(('No', 0), ('Y…"
      ]
     },
     "metadata": {},
     "output_type": "display_data"
    }
   ],
   "source": [
    "widgets.HBox([P70_chronic, T82_chronic], layout=widgets.Layout(width='100%'))"
   ]
  },
  {
   "cell_type": "code",
   "execution_count": 9,
   "metadata": {},
   "outputs": [
    {
     "data": {
      "application/vnd.jupyter.widget-view+json": {
       "model_id": "30a4a6ea5e4b43e582993d3b278c5a41",
       "version_major": 2,
       "version_minor": 0
      },
      "text/plain": [
       "HBox(children=(Dropdown(description='Cerebrovascular disease:', layout=Layout(width='45%'), options=(('No', 0)…"
      ]
     },
     "metadata": {},
     "output_type": "display_data"
    }
   ],
   "source": [
    "widgets.HBox([K89_chronic, K92_chronic], layout=widgets.Layout(width='100%'))"
   ]
  },
  {
   "cell_type": "markdown",
   "metadata": {},
   "source": [
    "### Lab tests:"
   ]
  },
  {
   "cell_type": "code",
   "execution_count": 13,
   "metadata": {},
   "outputs": [],
   "source": [
    "UREA=widgets.Text(\n",
    "    value='',\n",
    "    placeholder='0.4185',\n",
    "    description='UREA:', style={'description_width': 'initial'},\n",
    "    disabled=False, layout=widgets.Layout(width='45%')\n",
    ")\n",
    "NE=widgets.Text(\n",
    "    value='',\n",
    "    placeholder='74.9150',\n",
    "    description='NEUTROPHILS %:', style={'description_width': 'initial'},\n",
    "    disabled=False, layout=widgets.Layout(width='45%')\n",
    ")\n",
    "EOR=widgets.Text(\n",
    "    value='',\n",
    "    placeholder='0.0065',\n",
    "    description='EOSINOPHILS :', style={'description_width': 'initial'},\n",
    "    disabled=False, layout=widgets.Layout(width='45%')\n",
    ")\n",
    "LY=widgets.Text(\n",
    "    value='',\n",
    "    placeholder='15.7000',\n",
    "    description='LYMPHOCYTES %:', style={'description_width': 'initial'},\n",
    "    disabled=False, layout=widgets.Layout(width='45%')\n",
    ")\n",
    "LDH=widgets.Text(\n",
    "    value='',\n",
    "    placeholder='322.5000',\n",
    "    description='LDH:', style={'description_width': 'initial'},\n",
    "    disabled=False, layout=widgets.Layout(width='45%')\n",
    ")\n",
    "GLUC=widgets.Text(\n",
    "    value='',\n",
    "    placeholder='120.0000',\n",
    "    description='BASAL GLUCOSE:', style={'description_width': 'initial'},\n",
    "    disabled=False, layout=widgets.Layout(width='45%')\n",
    ")\n",
    "INR=widgets.Text(\n",
    "    value='',\n",
    "    placeholder='1.1150',\n",
    "    description='INR-TP:', style={'description_width': 'initial'},\n",
    "    disabled=False, layout=widgets.Layout(width='45%')\n",
    ")\n",
    "CREA=widgets.Text(\n",
    "    value='',\n",
    "    placeholder='0.9100',\n",
    "    description='CREATININE:', style={'description_width': 'initial'},\n",
    "    disabled=False, layout=widgets.Layout(width='45%')\n",
    ")\n",
    "EO=widgets.Text(\n",
    "    value='',\n",
    "    placeholder='0.1000',\n",
    "    description='EOSINOPHILS %:', style={'description_width': 'initial'},\n",
    "    disabled=False, layout=widgets.Layout(width='45%')\n",
    ")\n",
    "RBC=widgets.Text(\n",
    "    value='',\n",
    "    placeholder='4.5300',\n",
    "    description='RED BLOOD CELLS:', style={'description_width': 'initial'},\n",
    "    disabled=False, layout=widgets.Layout(width='45%')\n",
    ")\n",
    "CL=widgets.Text(\n",
    "    value='',\n",
    "    placeholder='101.8761',\n",
    "    description='CHLORIDE', style={'description_width': 'initial'},\n",
    "    disabled=False, layout=widgets.Layout(width='45%')\n",
    ")\n",
    "LYR=widgets.Text(\n",
    "    value='',\n",
    "    placeholder='0.9759',\n",
    "    description='LYMPHOCYTES:', style={'description_width': 'initial'},\n",
    "    disabled=False, layout=widgets.Layout(width='45%')\n",
    ")\n",
    "MO=widgets.Text(\n",
    "    value='',\n",
    "    placeholder='7.6000',\n",
    "    description='MONOCYTES %:', style={'description_width': 'initial'},\n",
    "    disabled=False, layout=widgets.Layout(width='45%')\n",
    ")\n",
    "VCM=widgets.Text(\n",
    "    value='',\n",
    "    placeholder='90.0000',\n",
    "    description='MCV:', style={'description_width': 'initial'},\n",
    "    disabled=False, layout=widgets.Layout(width='45%')\n",
    ")"
   ]
  },
  {
   "cell_type": "code",
   "execution_count": 14,
   "metadata": {},
   "outputs": [
    {
     "data": {
      "application/vnd.jupyter.widget-view+json": {
       "model_id": "2778b4e6f4d0482a96b383679bbbee02",
       "version_major": 2,
       "version_minor": 0
      },
      "text/plain": [
       "HBox(children=(Text(value='', description='RED BLOOD CELLS:', layout=Layout(width='45%'), placeholder='4.5300'…"
      ]
     },
     "metadata": {},
     "output_type": "display_data"
    }
   ],
   "source": [
    "widgets.HBox([RBC, widgets.Label(value=\" mill/mm3\", layout=widgets.Layout(width='5%')),\n",
    "             VCM, widgets.Label(value=\" fl\", layout=widgets.Layout(width='5%'))], layout=widgets.Layout(width='100%'))"
   ]
  },
  {
   "cell_type": "code",
   "execution_count": 15,
   "metadata": {},
   "outputs": [
    {
     "data": {
      "application/vnd.jupyter.widget-view+json": {
       "model_id": "c3c4708aaf8744fd98af55c2198a42f1",
       "version_major": 2,
       "version_minor": 0
      },
      "text/plain": [
       "HBox(children=(Text(value='', description='NEUTROPHILS %:', layout=Layout(width='45%'), placeholder='74.9150',…"
      ]
     },
     "metadata": {},
     "output_type": "display_data"
    }
   ],
   "source": [
    "widgets.HBox([NE, widgets.Label(value=\"%\", layout=widgets.Layout(width='5%')),\n",
    "             LY, widgets.Label(value=\" %\", layout=widgets.Layout(width='5%'))], layout=widgets.Layout(width='100%'))"
   ]
  },
  {
   "cell_type": "code",
   "execution_count": 16,
   "metadata": {},
   "outputs": [
    {
     "data": {
      "application/vnd.jupyter.widget-view+json": {
       "model_id": "71996dc89aa34b17945d26a8829900e7",
       "version_major": 2,
       "version_minor": 0
      },
      "text/plain": [
       "HBox(children=(Text(value='', description='MONOCYTES %:', layout=Layout(width='45%'), placeholder='7.6000', st…"
      ]
     },
     "metadata": {},
     "output_type": "display_data"
    }
   ],
   "source": [
    "widgets.HBox([MO, widgets.Label(value=\" %\", layout=widgets.Layout(width='5%')),\n",
    "             EO, widgets.Label(value=\" %\", layout=widgets.Layout(width='5%'))], layout=widgets.Layout(width='100%'))"
   ]
  },
  {
   "cell_type": "code",
   "execution_count": 17,
   "metadata": {},
   "outputs": [
    {
     "data": {
      "application/vnd.jupyter.widget-view+json": {
       "model_id": "613e8be478624654aaf24c5a363f9224",
       "version_major": 2,
       "version_minor": 0
      },
      "text/plain": [
       "HBox(children=(Text(value='', description='LYMPHOCYTES:', layout=Layout(width='45%'), placeholder='0.9759', st…"
      ]
     },
     "metadata": {},
     "output_type": "display_data"
    }
   ],
   "source": [
    "widgets.HBox([LYR, widgets.Label(value=\" mil/mm3\", layout=widgets.Layout(width='5%')),\n",
    "             EOR, widgets.Label(value=\" mil/mm3\", layout=widgets.Layout(width='5%'))], layout=widgets.Layout(width='100%'))"
   ]
  },
  {
   "cell_type": "code",
   "execution_count": 18,
   "metadata": {},
   "outputs": [
    {
     "data": {
      "application/vnd.jupyter.widget-view+json": {
       "model_id": "2ea8ef434fe440419bbd59f640eb3c64",
       "version_major": 2,
       "version_minor": 0
      },
      "text/plain": [
       "HBox(children=(Text(value='', description='INR-TP:', layout=Layout(width='45%'), placeholder='1.1150', style=D…"
      ]
     },
     "metadata": {},
     "output_type": "display_data"
    }
   ],
   "source": [
    "widgets.HBox([INR, widgets.Label(value=\" \", layout=widgets.Layout(width='5%')),\n",
    "             GLUC, widgets.Label(value=\" mg/dl\", layout=widgets.Layout(width='5%'))], layout=widgets.Layout(width='100%'))"
   ]
  },
  {
   "cell_type": "code",
   "execution_count": 19,
   "metadata": {},
   "outputs": [
    {
     "data": {
      "application/vnd.jupyter.widget-view+json": {
       "model_id": "0d8fb63cefba42fd929ee71cd47e3399",
       "version_major": 2,
       "version_minor": 0
      },
      "text/plain": [
       "HBox(children=(Text(value='', description='UREA:', layout=Layout(width='45%'), placeholder='0.4185', style=Des…"
      ]
     },
     "metadata": {},
     "output_type": "display_data"
    }
   ],
   "source": [
    "widgets.HBox([UREA, widgets.Label(value=\"g/L\", layout=widgets.Layout(width='5%')), \n",
    "              CREA, widgets.Label(value=\"mg/dl\", layout=widgets.Layout(width='5%'))], layout=widgets.Layout(width='100%'))"
   ]
  },
  {
   "cell_type": "code",
   "execution_count": 21,
   "metadata": {},
   "outputs": [
    {
     "data": {
      "application/vnd.jupyter.widget-view+json": {
       "model_id": "357d833a988b4be883cb1b96a7d3090b",
       "version_major": 2,
       "version_minor": 0
      },
      "text/plain": [
       "HBox(children=(Text(value='', description='CHLORIDE', layout=Layout(width='45%'), placeholder='101.8761', styl…"
      ]
     },
     "metadata": {},
     "output_type": "display_data"
    }
   ],
   "source": [
    "widgets.HBox([CL, widgets.Label(value=\" mmol/l\", layout=widgets.Layout(width='5%')), \n",
    "              LDH, widgets.Label(value=\" U/l\", layout=widgets.Layout(width='5%'))], layout=widgets.Layout(width='100%'))"
   ]
  },
  {
   "cell_type": "markdown",
   "metadata": {},
   "source": [
    "## Results:"
   ]
  },
  {
   "cell_type": "code",
   "execution_count": 25,
   "metadata": {},
   "outputs": [
    {
     "data": {
      "application/vnd.jupyter.widget-view+json": {
       "model_id": "ec832191ca35401487a595b3f7408670",
       "version_major": 2,
       "version_minor": 0
      },
      "text/plain": [
       "VBox(children=(Output(), ToggleButton(value=False, description='Predict', icon='check', layout=Layout(width='2…"
      ]
     },
     "metadata": {},
     "output_type": "display_data"
    }
   ],
   "source": [
    "out = widgets.Output()\n",
    "\n",
    "@out.capture()\n",
    "\n",
    "def predecir(boton_pred, models_pred,UREA,NE,EOR,LY,LDH,GLUC,INR,CREA,EO,RBC,CL,LYR,\n",
    "              MO,VCM,age,last_o2_sat,P70_chronic,T82_chronic,K89_chronic,K92_chronic):#, con):\n",
    "    out.clear_output()\n",
    "\n",
    "    dic_medianas={'edad': 71.0,\n",
    "                 'UREA.lab': 0.4185,\n",
    "                 'NE..lab': 74.915,\n",
    "                 'EOR.lab': 0.0065,\n",
    "                 'P70_cronico.diagnostico': 0.0,\n",
    "                 'LY..lab': 15.7,\n",
    "                 'LDH.lab': 322.5,\n",
    "                 'GLUC.lab': 120.0,\n",
    "                 'INR.lab': 1.1150000000000002,\n",
    "                 'CREA.lab': 0.91,\n",
    "                 'T82_cronico.diagnostico': 0.0,\n",
    "                 'sat_o2_ultimo.constante': 95.0,\n",
    "                 'EO..lab.1': 0.1,\n",
    "                 'RBC.lab': 4.53,\n",
    "                 'CL.lab': 101.87615288741195,\n",
    "                 'LYR.lab': 0.9759,\n",
    "                 'K89_cronico.diagnostico': 0.0,\n",
    "                 'K92_cronico.diagnostico': 0.0,\n",
    "                 'MO..lab': 7.6,\n",
    "                 'VCM.lab': 90.0,\n",
    "                 'salida': 0.0}\n",
    "    with tqdm(total=2) as pbar:\n",
    "        pbar.set_description(\"Recovering data:\")\n",
    "        \n",
    "        variables=[age,UREA,NE,EOR,LY,LDH,GLUC,INR,CREA,last_o2_sat,EO,RBC,CL,LYR,\n",
    "                   MO,VCM,T82_chronic,K89_chronic,K92_chronic,P70_chronic]\n",
    "        variables=[float(var.value) if var.value!='' else np.nan for var in variables]\n",
    "        order_cols=['edad', 'UREA.lab', 'NE..lab', 'EOR.lab', 'P70_cronico.diagnostico', 'LY..lab', 'LDH.lab', 'GLUC.lab', \n",
    "                'INR.lab', 'CREA.lab', 'T82_cronico.diagnostico', 'sat_o2_ultimo.constante', 'EO..lab.1', 'RBC.lab', 'CL.lab', \n",
    "                'LYR.lab', 'K89_cronico.diagnostico', 'K92_cronico.diagnostico', 'MO..lab', 'VCM.lab']\n",
    "        order_cols2=['edad', 'UREA.lab', 'NE..lab', 'EOR.lab', 'LY..lab', 'LDH.lab', \n",
    "                      'GLUC.lab', 'INR.lab', 'CREA.lab', 'sat_o2_ultimo.constante', 'EO..lab.1', 'RBC.lab', \n",
    "                      'CL.lab', 'LYR.lab', 'MO..lab', 'VCM.lab', 'T82_cronico.diagnostico', 'K89_cronico.diagnostico', \n",
    "                      'K92_cronico.diagnostico', 'P70_cronico.diagnostico']\n",
    "        data_pred=pd.DataFrame(np.asarray(variables).reshape((1,20)),\n",
    "                     columns=order_cols2).fillna(value=dic_medianas)[order_cols]\n",
    "        \n",
    "#         data_shap=pd.concat([data_pred,X_shap])[order_cols]\n",
    "#         explainer = shap.TreeExplainer(models_pred[0])\n",
    "#         shap_values = explainer.shap_values(data_shap)\n",
    "        \n",
    "        pbar.update(1)\n",
    "        pbar.set_description(\"Obtaining severity prediction:\")\n",
    "        pred_grav=models_pred[0].predict_proba(data_pred)[0][1]\n",
    "        pred_grav_str='No'\n",
    "        if pred_grav>0.4:\n",
    "            pred_grav_str='Yes'\n",
    "        pred_text.value=pred_grav_str\n",
    "        pred_prob_text.value=str(pred_grav)\n",
    "\n",
    "        pbar.update(1)\n",
    "        pbar.set_description(\"Done!\")\n",
    "        \n",
    "#         shap.force_plot(explainer.expected_value, shap_values[0,:], data_shap.iloc[0,:], matplotlib=True)\n",
    "\n",
    "boton=widgets.ToggleButton(\n",
    "    description='Predict',\n",
    "    disabled=False,\n",
    "    button_style='',\n",
    "    tooltip='Click here to obtain the predictions',\n",
    "    icon='check',\n",
    "    layout=widgets.Layout(width='20%')\n",
    ")\n",
    "\n",
    "widgets.VBox([out, boton], layout=widgets.Layout(width='100%'))"
   ]
  },
  {
   "cell_type": "code",
   "execution_count": 26,
   "metadata": {},
   "outputs": [],
   "source": [
    "pred_prob_text=widgets.Text(\n",
    "    value='',\n",
    "    placeholder='',\n",
    "    description='Probability of becoming severe: ', style={'description_width': 'initial'},\n",
    "    disabled=True, layout=widgets.Layout(width='45%')\n",
    ")\n",
    "pred_text=widgets.Text(\n",
    "    value='',\n",
    "    placeholder='',\n",
    "    description='Will become severe: ', style={'description_width': 'initial'},\n",
    "    disabled=True, layout=widgets.Layout(width='45%')\n",
    ")\n",
    "\n",
    "\n",
    "models_interactive = widgets.interactive(predecir, boton_pred=boton, models_pred=widgets.fixed(modelos),\n",
    "#                                           X_shap=widgets.fixed(X_shap),\n",
    "                                          UREA=widgets.fixed(UREA),NE=widgets.fixed(NE),EOR=widgets.fixed(EOR),\n",
    "                                          LY=widgets.fixed(LY),LDH=widgets.fixed(LDH),GLUC=widgets.fixed(GLUC),\n",
    "                                          INR=widgets.fixed(INR),CREA=widgets.fixed(CREA),EO=widgets.fixed(EO),\n",
    "                                          RBC=widgets.fixed(RBC),CL=widgets.fixed(CL),LYR=widgets.fixed(LYR),\n",
    "                                          MO=widgets.fixed(MO),VCM=widgets.fixed(VCM),age=widgets.fixed(age),\n",
    "                                          last_o2_sat=widgets.fixed(last_o2_sat),P70_chronic=widgets.fixed(P70_chronic),\n",
    "                                          T82_chronic=widgets.fixed(T82_chronic),K89_chronic=widgets.fixed(K89_chronic),\n",
    "                                          K92_chronic=widgets.fixed(K92_chronic))"
   ]
  },
  {
   "cell_type": "code",
   "execution_count": 27,
   "metadata": {},
   "outputs": [
    {
     "data": {
      "application/vnd.jupyter.widget-view+json": {
       "model_id": "3a27831c8c9b4e90a1163af5e07f8a95",
       "version_major": 2,
       "version_minor": 0
      },
      "text/plain": [
       "HBox(children=(Text(value='', description='Probability of becoming severe: ', disabled=True, layout=Layout(wid…"
      ]
     },
     "metadata": {},
     "output_type": "display_data"
    }
   ],
   "source": [
    "widgets.HBox([pred_prob_text, pred_text], layout=widgets.Layout(width='100%'))"
   ]
  },
  {
   "cell_type": "markdown",
   "metadata": {},
   "source": [
    "<h1><center><img align=\"center\" src=\"Pix/logoFEDER3.png\" height=\"100\" style=\"height:100px;\"></center></h1>\n"
   ]
  },
  {
   "cell_type": "code",
   "execution_count": null,
   "metadata": {},
   "outputs": [],
   "source": []
  }
 ],
 "metadata": {
  "kernelspec": {
   "display_name": "Python 3",
   "language": "python",
   "name": "python3"
  },
  "language_info": {
   "codemirror_mode": {
    "name": "ipython",
    "version": 3
   },
   "file_extension": ".py",
   "mimetype": "text/x-python",
   "name": "python",
   "nbconvert_exporter": "python",
   "pygments_lexer": "ipython3",
   "version": "3.7.7"
  }
 },
 "nbformat": 4,
 "nbformat_minor": 4
}
